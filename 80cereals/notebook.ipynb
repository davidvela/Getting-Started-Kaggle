{
  "cells": [
    {
      "metadata": {
        "_uuid": "de93d41a5c07dc34ad0455ab167108826bfb769c",
        "_cell_guid": "43e5958c-8926-4369-a6e3-4c23fb56e283",
        "scrolled": true,
        "trusted": true
      },
      "cell_type": "code",
      "source": "import numpy as np # linear algebra\nimport pandas as pd # data processing, CSV file I/O (e.g. pd.read_csv)\nfrom subprocess import check_output\nprint(check_output([\"ls\", \"../input\"]).decode(\"utf8\"))\n\nimport matplotlib.pyplot as plt \n\n#day 3\nfrom scipy.stats import ttest_ind \nfrom scipy.stats import probplot\nimport pylab ",
      "execution_count": 1,
      "outputs": [
        {
          "output_type": "stream",
          "text": "cereal.csv\n\n",
          "name": "stdout"
        }
      ]
    },
    {
      "metadata": {
        "_uuid": "00866da1921948b95a7d443af2be520c9fa73cf2",
        "_cell_guid": "81201b92-4b6f-4bfd-b848-448bdd85d35a",
        "trusted": true
      },
      "cell_type": "code",
      "source": "cereals = pd.read_csv(\"../input/cereal.csv\")\ncereals.head()",
      "execution_count": 2,
      "outputs": [
        {
          "output_type": "execute_result",
          "execution_count": 2,
          "data": {
            "text/plain": "                        name mfr type  calories  protein  fat  sodium  fiber  \\\n0                  100% Bran   N    C        70        4    1     130   10.0   \n1          100% Natural Bran   Q    C       120        3    5      15    2.0   \n2                   All-Bran   K    C        70        4    1     260    9.0   \n3  All-Bran with Extra Fiber   K    C        50        4    0     140   14.0   \n4             Almond Delight   R    C       110        2    2     200    1.0   \n\n   carbo  sugars  potass  vitamins  shelf  weight  cups     rating  \n0    5.0       6     280        25      3     1.0  0.33  68.402973  \n1    8.0       8     135         0      3     1.0  1.00  33.983679  \n2    7.0       5     320        25      3     1.0  0.33  59.425505  \n3    8.0       0     330        25      3     1.0  0.50  93.704912  \n4   14.0       8      -1        25      3     1.0  0.75  34.384843  ",
            "text/html": "<div>\n<style scoped>\n    .dataframe tbody tr th:only-of-type {\n        vertical-align: middle;\n    }\n\n    .dataframe tbody tr th {\n        vertical-align: top;\n    }\n\n    .dataframe thead th {\n        text-align: right;\n    }\n</style>\n<table border=\"1\" class=\"dataframe\">\n  <thead>\n    <tr style=\"text-align: right;\">\n      <th></th>\n      <th>name</th>\n      <th>mfr</th>\n      <th>type</th>\n      <th>calories</th>\n      <th>protein</th>\n      <th>fat</th>\n      <th>sodium</th>\n      <th>fiber</th>\n      <th>carbo</th>\n      <th>sugars</th>\n      <th>potass</th>\n      <th>vitamins</th>\n      <th>shelf</th>\n      <th>weight</th>\n      <th>cups</th>\n      <th>rating</th>\n    </tr>\n  </thead>\n  <tbody>\n    <tr>\n      <th>0</th>\n      <td>100% Bran</td>\n      <td>N</td>\n      <td>C</td>\n      <td>70</td>\n      <td>4</td>\n      <td>1</td>\n      <td>130</td>\n      <td>10.0</td>\n      <td>5.0</td>\n      <td>6</td>\n      <td>280</td>\n      <td>25</td>\n      <td>3</td>\n      <td>1.0</td>\n      <td>0.33</td>\n      <td>68.402973</td>\n    </tr>\n    <tr>\n      <th>1</th>\n      <td>100% Natural Bran</td>\n      <td>Q</td>\n      <td>C</td>\n      <td>120</td>\n      <td>3</td>\n      <td>5</td>\n      <td>15</td>\n      <td>2.0</td>\n      <td>8.0</td>\n      <td>8</td>\n      <td>135</td>\n      <td>0</td>\n      <td>3</td>\n      <td>1.0</td>\n      <td>1.00</td>\n      <td>33.983679</td>\n    </tr>\n    <tr>\n      <th>2</th>\n      <td>All-Bran</td>\n      <td>K</td>\n      <td>C</td>\n      <td>70</td>\n      <td>4</td>\n      <td>1</td>\n      <td>260</td>\n      <td>9.0</td>\n      <td>7.0</td>\n      <td>5</td>\n      <td>320</td>\n      <td>25</td>\n      <td>3</td>\n      <td>1.0</td>\n      <td>0.33</td>\n      <td>59.425505</td>\n    </tr>\n    <tr>\n      <th>3</th>\n      <td>All-Bran with Extra Fiber</td>\n      <td>K</td>\n      <td>C</td>\n      <td>50</td>\n      <td>4</td>\n      <td>0</td>\n      <td>140</td>\n      <td>14.0</td>\n      <td>8.0</td>\n      <td>0</td>\n      <td>330</td>\n      <td>25</td>\n      <td>3</td>\n      <td>1.0</td>\n      <td>0.50</td>\n      <td>93.704912</td>\n    </tr>\n    <tr>\n      <th>4</th>\n      <td>Almond Delight</td>\n      <td>R</td>\n      <td>C</td>\n      <td>110</td>\n      <td>2</td>\n      <td>2</td>\n      <td>200</td>\n      <td>1.0</td>\n      <td>14.0</td>\n      <td>8</td>\n      <td>-1</td>\n      <td>25</td>\n      <td>3</td>\n      <td>1.0</td>\n      <td>0.75</td>\n      <td>34.384843</td>\n    </tr>\n  </tbody>\n</table>\n</div>"
          },
          "metadata": {}
        }
      ]
    },
    {
      "metadata": {
        "_uuid": "4f6b3fa0888534dd3333af0ee6ab72efcbf4b861",
        "_cell_guid": "91e8c4dd-06d7-48d3-9c77-b514e64d2463",
        "trusted": true
      },
      "cell_type": "code",
      "source": "cereals.describe()",
      "execution_count": 3,
      "outputs": [
        {
          "output_type": "execute_result",
          "execution_count": 3,
          "data": {
            "text/plain": "         calories    protein        fat      sodium      fiber      carbo  \\\ncount   77.000000  77.000000  77.000000   77.000000  77.000000  77.000000   \nmean   106.883117   2.545455   1.012987  159.675325   2.151948  14.597403   \nstd     19.484119   1.094790   1.006473   83.832295   2.383364   4.278956   \nmin     50.000000   1.000000   0.000000    0.000000   0.000000  -1.000000   \n25%    100.000000   2.000000   0.000000  130.000000   1.000000  12.000000   \n50%    110.000000   3.000000   1.000000  180.000000   2.000000  14.000000   \n75%    110.000000   3.000000   2.000000  210.000000   3.000000  17.000000   \nmax    160.000000   6.000000   5.000000  320.000000  14.000000  23.000000   \n\n          sugars      potass    vitamins      shelf     weight       cups  \\\ncount  77.000000   77.000000   77.000000  77.000000  77.000000  77.000000   \nmean    6.922078   96.077922   28.246753   2.207792   1.029610   0.821039   \nstd     4.444885   71.286813   22.342523   0.832524   0.150477   0.232716   \nmin    -1.000000   -1.000000    0.000000   1.000000   0.500000   0.250000   \n25%     3.000000   40.000000   25.000000   1.000000   1.000000   0.670000   \n50%     7.000000   90.000000   25.000000   2.000000   1.000000   0.750000   \n75%    11.000000  120.000000   25.000000   3.000000   1.000000   1.000000   \nmax    15.000000  330.000000  100.000000   3.000000   1.500000   1.500000   \n\n          rating  \ncount  77.000000  \nmean   42.665705  \nstd    14.047289  \nmin    18.042851  \n25%    33.174094  \n50%    40.400208  \n75%    50.828392  \nmax    93.704912  ",
            "text/html": "<div>\n<style scoped>\n    .dataframe tbody tr th:only-of-type {\n        vertical-align: middle;\n    }\n\n    .dataframe tbody tr th {\n        vertical-align: top;\n    }\n\n    .dataframe thead th {\n        text-align: right;\n    }\n</style>\n<table border=\"1\" class=\"dataframe\">\n  <thead>\n    <tr style=\"text-align: right;\">\n      <th></th>\n      <th>calories</th>\n      <th>protein</th>\n      <th>fat</th>\n      <th>sodium</th>\n      <th>fiber</th>\n      <th>carbo</th>\n      <th>sugars</th>\n      <th>potass</th>\n      <th>vitamins</th>\n      <th>shelf</th>\n      <th>weight</th>\n      <th>cups</th>\n      <th>rating</th>\n    </tr>\n  </thead>\n  <tbody>\n    <tr>\n      <th>count</th>\n      <td>77.000000</td>\n      <td>77.000000</td>\n      <td>77.000000</td>\n      <td>77.000000</td>\n      <td>77.000000</td>\n      <td>77.000000</td>\n      <td>77.000000</td>\n      <td>77.000000</td>\n      <td>77.000000</td>\n      <td>77.000000</td>\n      <td>77.000000</td>\n      <td>77.000000</td>\n      <td>77.000000</td>\n    </tr>\n    <tr>\n      <th>mean</th>\n      <td>106.883117</td>\n      <td>2.545455</td>\n      <td>1.012987</td>\n      <td>159.675325</td>\n      <td>2.151948</td>\n      <td>14.597403</td>\n      <td>6.922078</td>\n      <td>96.077922</td>\n      <td>28.246753</td>\n      <td>2.207792</td>\n      <td>1.029610</td>\n      <td>0.821039</td>\n      <td>42.665705</td>\n    </tr>\n    <tr>\n      <th>std</th>\n      <td>19.484119</td>\n      <td>1.094790</td>\n      <td>1.006473</td>\n      <td>83.832295</td>\n      <td>2.383364</td>\n      <td>4.278956</td>\n      <td>4.444885</td>\n      <td>71.286813</td>\n      <td>22.342523</td>\n      <td>0.832524</td>\n      <td>0.150477</td>\n      <td>0.232716</td>\n      <td>14.047289</td>\n    </tr>\n    <tr>\n      <th>min</th>\n      <td>50.000000</td>\n      <td>1.000000</td>\n      <td>0.000000</td>\n      <td>0.000000</td>\n      <td>0.000000</td>\n      <td>-1.000000</td>\n      <td>-1.000000</td>\n      <td>-1.000000</td>\n      <td>0.000000</td>\n      <td>1.000000</td>\n      <td>0.500000</td>\n      <td>0.250000</td>\n      <td>18.042851</td>\n    </tr>\n    <tr>\n      <th>25%</th>\n      <td>100.000000</td>\n      <td>2.000000</td>\n      <td>0.000000</td>\n      <td>130.000000</td>\n      <td>1.000000</td>\n      <td>12.000000</td>\n      <td>3.000000</td>\n      <td>40.000000</td>\n      <td>25.000000</td>\n      <td>1.000000</td>\n      <td>1.000000</td>\n      <td>0.670000</td>\n      <td>33.174094</td>\n    </tr>\n    <tr>\n      <th>50%</th>\n      <td>110.000000</td>\n      <td>3.000000</td>\n      <td>1.000000</td>\n      <td>180.000000</td>\n      <td>2.000000</td>\n      <td>14.000000</td>\n      <td>7.000000</td>\n      <td>90.000000</td>\n      <td>25.000000</td>\n      <td>2.000000</td>\n      <td>1.000000</td>\n      <td>0.750000</td>\n      <td>40.400208</td>\n    </tr>\n    <tr>\n      <th>75%</th>\n      <td>110.000000</td>\n      <td>3.000000</td>\n      <td>2.000000</td>\n      <td>210.000000</td>\n      <td>3.000000</td>\n      <td>17.000000</td>\n      <td>11.000000</td>\n      <td>120.000000</td>\n      <td>25.000000</td>\n      <td>3.000000</td>\n      <td>1.000000</td>\n      <td>1.000000</td>\n      <td>50.828392</td>\n    </tr>\n    <tr>\n      <th>max</th>\n      <td>160.000000</td>\n      <td>6.000000</td>\n      <td>5.000000</td>\n      <td>320.000000</td>\n      <td>14.000000</td>\n      <td>23.000000</td>\n      <td>15.000000</td>\n      <td>330.000000</td>\n      <td>100.000000</td>\n      <td>3.000000</td>\n      <td>1.500000</td>\n      <td>1.500000</td>\n      <td>93.704912</td>\n    </tr>\n  </tbody>\n</table>\n</div>"
          },
          "metadata": {}
        }
      ]
    },
    {
      "metadata": {
        "_uuid": "5dbcd5a4107402c68d79cfa376479090b15f58fe",
        "collapsed": true,
        "_cell_guid": "5570d7f1-c7e4-4573-95f0-3ae0039d67f2",
        "trusted": true
      },
      "cell_type": "code",
      "source": "cereal = \"sodium\"\ncereal = \"sugars\"",
      "execution_count": 4,
      "outputs": []
    },
    {
      "metadata": {
        "_uuid": "535e8395bd6472dfbc91e27da74dfe8da98a33c3",
        "_cell_guid": "4ea2ac5f-72fc-45f1-ae2e-d479898d85d4",
        "trusted": true
      },
      "cell_type": "code",
      "source": "probplot(cereals[cereal], dist=\"norm\", plot=pylab)\n",
      "execution_count": 5,
      "outputs": [
        {
          "output_type": "execute_result",
          "execution_count": 5,
          "data": {
            "text/plain": "((array([-2.3672044 , -2.01892399, -1.81615497, -1.6685929 , -1.55038319,\n         -1.45056491, -1.36341252, -1.28553894, -1.2147656 , -1.14960406,\n         -1.08898961, -1.03213271, -0.97843053, -0.92741151, -0.87869918,\n         -0.8319877 , -0.78702477, -0.74359942, -0.70153318, -0.66067335,\n         -0.62088802, -0.5820622 , -0.54409476, -0.50689606, -0.47038604,\n         -0.43449267, -0.39915065, -0.36430042, -0.32988724, -0.29586046,\n         -0.26217291, -0.22878038, -0.19564108, -0.16271532, -0.12996506,\n         -0.09735365, -0.06484548, -0.0324057 ,  0.        ,  0.0324057 ,\n          0.06484548,  0.09735365,  0.12996506,  0.16271532,  0.19564108,\n          0.22878038,  0.26217291,  0.29586046,  0.32988724,  0.36430042,\n          0.39915065,  0.43449267,  0.47038604,  0.50689606,  0.54409476,\n          0.5820622 ,  0.62088802,  0.66067335,  0.70153318,  0.74359942,\n          0.78702477,  0.8319877 ,  0.87869918,  0.92741151,  0.97843053,\n          1.03213271,  1.08898961,  1.14960406,  1.2147656 ,  1.28553894,\n          1.36341252,  1.45056491,  1.55038319,  1.6685929 ,  1.81615497,\n          2.01892399,  2.3672044 ]),\n  array([-1,  0,  0,  0,  0,  0,  0,  0,  1,  2,  2,  2,  3,  3,  3,  3,  3,\n          3,  3,  3,  3,  3,  3,  3,  3,  4,  5,  5,  5,  5,  5,  6,  6,  6,\n          6,  6,  6,  6,  7,  7,  7,  7,  8,  8,  8,  8,  8,  9,  9,  9,  9,\n         10, 10, 10, 10, 10, 11, 11, 11, 11, 11, 12, 12, 12, 12, 12, 12, 12,\n         13, 13, 13, 13, 14, 14, 14, 15, 15])),\n (4.4417692657254602, 6.9220779220779214, 0.98079840903481597))"
          },
          "metadata": {}
        },
        {
          "output_type": "display_data",
          "data": {
            "text/plain": "<matplotlib.figure.Figure at 0x7fe1d0434cf8>",
            "image/png": "[encoded data removed]"
          },
          "metadata": {}
        }
      ]
    },
    {
      "metadata": {
        "_uuid": "b1f433088b284ea91cf7c99fd6db1ac441501466",
        "_cell_guid": "1589feb4-df50-43e4-813f-fb7c613fc7b5",
        "trusted": true
      },
      "cell_type": "code",
      "source": "hotCereals = cereals[cereal][cereals[\"type\"] == \"H\"]\ncoldCereals = cereals[cereal][cereals[\"type\"] == \"C\"]\nttest_ind(hotCereals, coldCereals, equal_var=False)",
      "execution_count": 6,
      "outputs": [
        {
          "output_type": "execute_result",
          "execution_count": 6,
          "data": {
            "text/plain": "Ttest_indResult(statistic=-4.9948464517555546, pvalue=0.018743720131906921)"
          },
          "metadata": {}
        }
      ]
    },
    {
      "metadata": {
        "_uuid": "912990af7eb626226c07538839a496218968775d",
        "_cell_guid": "a066aa49-9584-4d9e-95eb-e3db6c73abea",
        "trusted": true
      },
      "cell_type": "code",
      "source": "print(\"Mean {} Hot : {}\".format(cereal, hotCereals.mean()))\nprint(\"Mean {} Cold : {}\".format(cereal, coldCereals.mean()))",
      "execution_count": 7,
      "outputs": [
        {
          "output_type": "stream",
          "text": "Mean sugars Hot : 0.6666666666666666\nMean sugars Cold : 7.175675675675675\n",
          "name": "stdout"
        }
      ]
    },
    {
      "metadata": {
        "_uuid": "520ac74239b1e068b17e704e3861dfcb7c674593",
        "_cell_guid": "078b3e59-d85c-4915-bd52-d21a2802a72c",
        "trusted": true
      },
      "cell_type": "code",
      "source": "plt.hist(coldCereals, alpha=0.5, label='cold')\nplt.hist(hotCereals, label='hot')\nplt.legend(loc='upper right')\nplt.title(cereal)",
      "execution_count": 8,
      "outputs": [
        {
          "output_type": "execute_result",
          "execution_count": 8,
          "data": {
            "text/plain": "Text(0.5,1,'sugars')"
          },
          "metadata": {}
        },
        {
          "output_type": "display_data",
          "data": {
            "text/plain": "<matplotlib.figure.Figure at 0x7fe1cc059f60>",
            "image/png": "[encoded data removed]"
          },
          "metadata": {}
        }
      ]
    },
    {
      "metadata": {
        "_uuid": "fe8b2a6b6a08a19cd560cf6877ad30d68f84bae1",
        "collapsed": true,
        "_cell_guid": "be5091e5-cc71-468a-b9e7-363258242fcb",
        "trusted": false
      },
      "cell_type": "code",
      "source": "",
      "execution_count": null,
      "outputs": []
    }
  ],
  "metadata": {
    "kernelspec": {
      "display_name": "Python 3",
      "language": "python",
      "name": "python3"
    },
    "language_info": {
      "name": "python",
      "version": "3.6.3",
      "mimetype": "text/x-python",
      "codemirror_mode": {
        "name": "ipython",
        "version": 3
      },
      "pygments_lexer": "ipython3",
      "nbconvert_exporter": "python",
      "file_extension": ".py"
    }
  },
  "nbformat": 4,
  "nbformat_minor": 1
}