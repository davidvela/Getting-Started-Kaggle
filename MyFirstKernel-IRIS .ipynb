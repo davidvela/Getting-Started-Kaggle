{
 "cells": [
  {
   "cell_type": "markdown",
   "metadata": {
    "_cell_guid": "fccaba17-94e8-4e40-8f1a-4919bf22face",
    "_uuid": "bc5bfafbdb1ca8b6c05bfe40528738bd55b1e18b"
   },
   "source": [
    "# IRIS SPECIES"
   ]
  },
  {
   "cell_type": "code",
   "execution_count": 1,
   "metadata": {
    "_cell_guid": "5e290716-aabe-431c-bd7e-926c52ad5b18",
    "_uuid": "db6b87d7aaa6e6f852b98834ff23c64098f357e8",
    "collapsed": true
   },
   "outputs": [],
   "source": [
    "# This Python 3 environment comes with many helpful analytics libraries installed\n",
    "# It is defined by the kaggle/python docker image: https://github.com/kaggle/docker-python\n",
    "# For example, here's several helpful packages to load in \n",
    "import numpy as np # linear algebra\n",
    "import pandas as pd # data processing, CSV file I/O (e.g. pd.read_csv)\n",
    "import tensorflow as tf\n",
    "\n",
    "# Input data files are available in the \"../input/\" directory.\n",
    "# For example, running this (by clicking run or pressing Shift+Enter) will list the files in the input directory\n",
    "from subprocess import check_output\n"
   ]
  },
  {
   "cell_type": "markdown",
   "metadata": {
    "_cell_guid": "85b3a143-2498-437f-bb39-a7d517b68237",
    "_uuid": "bd2ee0fa5e1c359a4c2e94809bbffdd8b5c5af57",
    "collapsed": true
   },
   "source": [
    "# Data Operations "
   ]
  },
  {
   "cell_type": "code",
   "execution_count": null,
   "metadata": {
    "collapsed": true
   },
   "outputs": [],
   "source": [
    "# print(check_output([\"ls\", \"../input\"]).decode(\"utf8\"))\n",
    "# Any results you write to the current directory are saved as output.\n",
    "df = pd.read_csv(\"../input/Iris.csv\")\n",
    "df.head(2)\n",
    "#change 3"
   ]
  },
  {
   "cell_type": "code",
   "execution_count": null,
   "metadata": {
    "collapsed": true
   },
   "outputs": [],
   "source": []
  },
  {
   "cell_type": "code",
   "execution_count": null,
   "metadata": {
    "collapsed": true
   },
   "outputs": [],
   "source": []
  },
  {
   "cell_type": "code",
   "execution_count": null,
   "metadata": {
    "_cell_guid": "4cb718ba-35be-4c1d-9c1b-4563553fccb1",
    "_uuid": "720a926c2a1f6720c9413b26df383a88edfb4c9d",
    "collapsed": true
   },
   "outputs": [],
   "source": []
  },
  {
   "cell_type": "code",
   "execution_count": null,
   "metadata": {
    "_cell_guid": "e6aa3b24-1e45-4efa-a76b-d47ec29f3e3a",
    "_uuid": "f0445d7082b07481aeba06825ad95cbc7568c193",
    "collapsed": true
   },
   "outputs": [],
   "source": [
    "test = tf.constant(2)\n",
    "with tf.Session() as sess:\n",
    "    print(sess.run(test))"
   ]
  }
 ],
 "metadata": {
  "kernelspec": {
   "display_name": "Python 3",
   "language": "python",
   "name": "python3"
  },
  "language_info": {
   "codemirror_mode": {
    "name": "ipython",
    "version": 3
   },
   "file_extension": ".py",
   "mimetype": "text/x-python",
   "name": "python",
   "nbconvert_exporter": "python",
   "pygments_lexer": "ipython3",
   "version": "3.5.2"
  }
 },
 "nbformat": 4,
 "nbformat_minor": 1
}
